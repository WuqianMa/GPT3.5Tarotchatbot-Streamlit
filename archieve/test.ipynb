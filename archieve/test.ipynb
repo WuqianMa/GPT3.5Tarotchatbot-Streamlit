{
 "cells": [
  {
   "cell_type": "code",
   "execution_count": 3,
   "metadata": {},
   "outputs": [],
   "source": [
    "import json\n",
    "import pandas as pd\n",
    "import random\n",
    "\n"
   ]
  },
  {
   "cell_type": "code",
   "execution_count": 4,
   "metadata": {},
   "outputs": [],
   "source": [
    "# Load the tarot card data from the JSON file\n",
    "file_path='tarot-images.json'"
   ]
  },
  {
   "cell_type": "code",
   "execution_count": 5,
   "metadata": {},
   "outputs": [],
   "source": [
    "with open(file_path, 'r') as file:\n",
    "    tarot_data = json.load(file)"
   ]
  },
  {
   "cell_type": "code",
   "execution_count": 6,
   "metadata": {},
   "outputs": [],
   "source": [
    "# Display the structure of the loaded tarot data for an overview\n",
    "tarot_data_keys = list(tarot_data.keys())\n",
    "sample_card = next(iter(tarot_data.values()))"
   ]
  },
  {
   "cell_type": "code",
   "execution_count": 7,
   "metadata": {},
   "outputs": [],
   "source": [
    "# Showing the structure and a sample card to understand the data format\n",
    "tarot_data_structure = {\n",
    "    \"Total Cards\": len(tarot_data),\n",
    "    \"Data Structure Keys\": tarot_data_keys,\n",
    "    \"Sample Card\": sample_card\n",
    "}"
   ]
  },
  {
   "cell_type": "code",
   "execution_count": 8,
   "metadata": {},
   "outputs": [
    {
     "data": {
      "text/plain": [
       "{'Total Cards': 2,\n",
       " 'Data Structure Keys': ['description', 'cards'],\n",
       " 'Sample Card': 'tarot cards and basic information about them, as well as references to corresponding scans'}"
      ]
     },
     "execution_count": 8,
     "metadata": {},
     "output_type": "execute_result"
    }
   ],
   "source": [
    "tarot_data_structure"
   ]
  },
  {
   "cell_type": "code",
   "execution_count": 9,
   "metadata": {},
   "outputs": [],
   "source": [
    "# Extracting and inspecting the data under the 'cards' key\n",
    "cards_data = tarot_data['cards']\n"
   ]
  },
  {
   "cell_type": "code",
   "execution_count": 10,
   "metadata": {},
   "outputs": [],
   "source": [
    "# Assuming 'cards' contains a list of cards, we'll check the first few entries to understand their structure\n",
    "sample_cards = cards_data[:3] if isinstance(cards_data, list) else \"The structure is not a list.\"\n"
   ]
  },
  {
   "cell_type": "code",
   "execution_count": 11,
   "metadata": {},
   "outputs": [
    {
     "data": {
      "text/plain": [
       "[{'name': 'The Fool',\n",
       "  'number': '0',\n",
       "  'arcana': 'Major Arcana',\n",
       "  'suit': 'Trump',\n",
       "  'img': 'm00.jpg',\n",
       "  'fortune_telling': ['Watch for new projects and new beginnings',\n",
       "   'Prepare to take something on faith',\n",
       "   'Something new comes your way; go for it'],\n",
       "  'keywords': ['freedom', 'faith', 'inexperience', 'innocence'],\n",
       "  'meanings': {'light': ['Freeing yourself from limitation',\n",
       "    'Expressing joy and youthful vigor',\n",
       "    'Being open-minded',\n",
       "    'Taking a leap of faith',\n",
       "    'Attuning yourself to your instincts',\n",
       "    'Being eager or curious',\n",
       "    'Exploring your potential',\n",
       "    'Embracing innovation and change'],\n",
       "   'shadow': ['Being gullible and naive',\n",
       "    'Taking unnecessary risks',\n",
       "    'Failing to be serious when required',\n",
       "    'Being silly or distracted',\n",
       "    'Lacking experience',\n",
       "    'Failing to honor well-established traditions and limits',\n",
       "    'Behaving inappropriately']},\n",
       "  'Archetype': 'The Divine Madman',\n",
       "  'Hebrew Alphabet': 'Aleph/Ox/1',\n",
       "  'Numerology': '0 (off the scale; pure potential)',\n",
       "  'Elemental': 'Air',\n",
       "  'Mythical/Spiritual': 'Adam before the fall. Christ as a wandering holy madman. Deity wrapped in human flesh. The Holy Spirit.',\n",
       "  'Questions to Ask': ['What would I do if I felt free to take a leap?',\n",
       "   'How willing am I to be vulnerable and open?',\n",
       "   'How might past experiences help in this new situation?']},\n",
       " {'name': 'The Magician',\n",
       "  'number': '1',\n",
       "  'arcana': 'Major Arcana',\n",
       "  'suit': 'Trump',\n",
       "  'img': 'm01.jpg',\n",
       "  'fortune_telling': ['A powerful man may play a role in your day',\n",
       "   'Your current situation must be seen as one element of a much larger plan'],\n",
       "  'keywords': ['capability', 'empowerment', 'activity'],\n",
       "  'meanings': {'light': ['Taking appropriate action',\n",
       "    'Receiving guidance from a higher power',\n",
       "    'Becoming a channel of divine will',\n",
       "    'Expressing masculine energy in appropriate and constructive ways',\n",
       "    'Being yourself in every way'],\n",
       "   'shadow': ['Inflating your own ego',\n",
       "    'Abusing talents',\n",
       "    'Manipulating or deceiving others',\n",
       "    'Being too aggressive',\n",
       "    'Using cheap illusions to dazzle others',\n",
       "    'Refusing to invest the time and effort needed to master your craft',\n",
       "    'Taking shortcuts']},\n",
       "  'Archetype': 'The Ego/The Self',\n",
       "  'Hebrew Alphabet': 'Beth/House/2',\n",
       "  'Numerology': '1 (origins, unity, seeds)',\n",
       "  'Elemental': 'The Sun/Mercury',\n",
       "  'Mythical/Spiritual': 'Thoth, the Egyptian god of wisdom, known to the Greeks as Hermes and to the Romans as Mercury. Christ working miracles. Brahma, the Creator.',\n",
       "  'Questions to Ask': ['What am I empowered to do?',\n",
       "   'How might my abilities come into play?',\n",
       "   'To what extent am I making the most of my talents?']},\n",
       " {'name': 'The High Priestess',\n",
       "  'number': '2',\n",
       "  'arcana': 'Major Arcana',\n",
       "  'suit': 'Trump',\n",
       "  'img': 'm02.jpg',\n",
       "  'fortune_telling': ['A mysterious woman arrives',\n",
       "   'A sexual secret may surface',\n",
       "   'Someone knows more than he or she will reveal'],\n",
       "  'keywords': ['intuition', 'reflection', 'purity', 'initiation'],\n",
       "  'meanings': {'light': ['Listening to your feelings and intuitions',\n",
       "    'Exploring unconventional spirituality',\n",
       "    'Keeping secrets',\n",
       "    'Being receptive',\n",
       "    'Reflecting instead of acting',\n",
       "    'Observing others',\n",
       "    'Preserving purity'],\n",
       "   'shadow': ['Being aloof',\n",
       "    'Obsessing on secrets and conspiracies',\n",
       "    'Rejecting guidance from spirit or intuition',\n",
       "    'Revealing all',\n",
       "    'Ignoring gut feelings',\n",
       "    'Refusing to become involved, even when involvement is appropriate']},\n",
       "  'Archetype': 'The Virgin/The Maiden',\n",
       "  'Hebrew Alphabet': 'Gimel/Camel/3',\n",
       "  'Numerology': '2 (division, debate, duality)',\n",
       "  'Elemental': 'The Moon',\n",
       "  'Mythical/Spiritual': 'The feminine aspect of divinity, particularity when expressed through virginity, as with the Virgin Mary or Isis.',\n",
       "  'Questions to Ask': ['What might a rebel against tradition do?',\n",
       "   \"What isn't being said or revealed?\",\n",
       "   'What could be achieved by observing and reflecting?']}]"
      ]
     },
     "execution_count": 11,
     "metadata": {},
     "output_type": "execute_result"
    }
   ],
   "source": [
    "sample_cards"
   ]
  },
  {
   "cell_type": "code",
   "execution_count": 12,
   "metadata": {},
   "outputs": [],
   "source": [
    "# Convert the list of dictionaries into a pandas DataFrame for easier manipulation and viewing\n",
    "cards_df = pd.DataFrame(cards_data)"
   ]
  },
  {
   "cell_type": "code",
   "execution_count": 13,
   "metadata": {},
   "outputs": [],
   "source": [
    "# Display the first few rows of the DataFrame to verify its structure\n",
    "# pandas is not necessary for our basic chatbot project.\n",
    "# if we want have a recommendation system, it could be useful to count the frequency of cards.\n",
    "# but right niow it is not necessary\n",
    "#cards_df.head()"
   ]
  },
  {
   "cell_type": "code",
   "execution_count": 14,
   "metadata": {},
   "outputs": [],
   "source": [
    "# cards_data is a list of dictionaries, each representing a card\n",
    "major_arcana_cards = [card for card in cards_data if card['arcana'] == 'Major Arcana']\n",
    "\n"
   ]
  },
  {
   "cell_type": "code",
   "execution_count": 15,
   "metadata": {},
   "outputs": [],
   "source": [
    "# Function to draw a single card from the Major Arcana\n",
    "def draw_major_arcana_card():\n",
    "    return random.choice(major_arcana_cards)"
   ]
  },
  {
   "cell_type": "code",
   "execution_count": 16,
   "metadata": {},
   "outputs": [
    {
     "name": "stdout",
     "output_type": "stream",
     "text": [
      "Card: The Magician\n",
      "Number: 1\n",
      "Keywords: capability, empowerment, activity\n",
      "Meanings (Light):\n",
      "- Taking appropriate action\n",
      "- Receiving guidance from a higher power\n",
      "- Becoming a channel of divine will\n",
      "- Expressing masculine energy in appropriate and constructive ways\n",
      "- Being yourself in every way\n",
      "Meanings (Shadow):\n",
      "- Inflating your own ego\n",
      "- Abusing talents\n",
      "- Manipulating or deceiving others\n",
      "- Being too aggressive\n",
      "- Using cheap illusions to dazzle others\n",
      "- Refusing to invest the time and effort needed to master your craft\n",
      "- Taking shortcuts\n"
     ]
    }
   ],
   "source": [
    "# Draw a card and display its details\n",
    "selected_card = draw_major_arcana_card()\n",
    "print(f\"Card: {selected_card['name']}\")\n",
    "print(f\"Number: {selected_card['number']}\")\n",
    "print(f\"Keywords: {', '.join(selected_card['keywords'])}\")\n",
    "print(\"Meanings (Light):\")\n",
    "for meaning in selected_card['meanings']['light']:\n",
    "    print(f\"- {meaning}\")\n",
    "print(\"Meanings (Shadow):\")\n",
    "for meaning in selected_card['meanings']['shadow']:\n",
    "    print(f\"- {meaning}\")\n"
   ]
  },
  {
   "cell_type": "code",
   "execution_count": null,
   "metadata": {},
   "outputs": [],
   "source": [
    "\n"
   ]
  },
  {
   "cell_type": "code",
   "execution_count": 6,
   "metadata": {},
   "outputs": [],
   "source": []
  },
  {
   "cell_type": "code",
   "execution_count": 1,
   "metadata": {},
   "outputs": [],
   "source": [
    "\n"
   ]
  },
  {
   "cell_type": "code",
   "execution_count": 2,
   "metadata": {},
   "outputs": [],
   "source": []
  },
  {
   "cell_type": "code",
   "execution_count": null,
   "metadata": {},
   "outputs": [],
   "source": []
  },
  {
   "cell_type": "code",
   "execution_count": null,
   "metadata": {},
   "outputs": [],
   "source": []
  }
 ],
 "metadata": {
  "kernelspec": {
   "display_name": "base",
   "language": "python",
   "name": "python3"
  },
  "language_info": {
   "codemirror_mode": {
    "name": "ipython",
    "version": 3
   },
   "file_extension": ".py",
   "mimetype": "text/x-python",
   "name": "python",
   "nbconvert_exporter": "python",
   "pygments_lexer": "ipython3",
   "version": "3.9.13"
  }
 },
 "nbformat": 4,
 "nbformat_minor": 2
}
